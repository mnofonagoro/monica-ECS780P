{
 "cells": [
  {
   "cell_type": "markdown",
   "metadata": {},
   "source": [
    "[DIY Disease Tracking Dashboard Kit](https://github.com/fsmeraldi/diy-covid19dash) (C) Fabrizio Smeraldi, 2020,2024 ([f.smeraldi@qmul.ac.uk](mailto:f.smeraldi@qmul.ac.uk) - [web](http://www.eecs.qmul.ac.uk/~fabri/)). This notebook is released under the [GNU GPLv3.0 or later](https://www.gnu.org/licenses/)."
   ]
  },
  {
   "cell_type": "markdown",
   "metadata": {
    "slideshow": {
     "slide_type": "slide"
    }
   },
   "source": [
    "# Influenza Tracking Dashboard"
   ]
  },
  {
   "cell_type": "markdown",
   "metadata": {},
   "source": [
    "**Welcome!**\n",
    "\n",
    "This dashboard allows you to explore weekly influenza-related statistics, specifically:\n",
    "- Hospital admissions rates: Track how often influenza leads to hospitalizations.\n",
    "- ICU and HDU admission rates: Monitor severe cases requiring intensive care.\n",
    "\n",
    "Using data from the UK Health Security Agency (UKHSA), this interactive tool provides an up-to-date view of influenza trends in England.\n",
    "\n",
    "**Key Features**\n",
    "\n",
    "- Preloaded Data:\n",
    "The dashboard starts with reliable, preloaded data for seamless access, even offline.\n",
    "Users can explore historical trends without waiting for API responses.\n",
    "- Real-Time Updates:\n",
    "Refresh the data with a single click to access the latest statistics from the UKHSA API.\n",
    "Ensures that you are informed about current trends.\n",
    "- Interactive Graphs:\n",
    "Select the metrics to display: Choose from hospital admissions or ICU/HDU admissions.\n",
    "Switch between linear and logarithmic scales for better data visualization.\n",
    "Dynamic updates ensure the graphs reflect your choices instantly.\n",
    "\n",
    "**How to Use the Dashboard**\n",
    "- Explore the Graphs:\n",
    "Toggle the Scale Selector to switch between linear and logarithmic scales.\n",
    "- Update the Data:\n",
    "Click the Fetch Data button to retrieve fresh data from the UKHSA API.\n",
    "The graphs will refresh automatically to reflect the latest data.\n",
    "\n",
    "\n",
    "Start Exploring!"
   ]
  },
  {
   "cell_type": "code",
   "execution_count": 1,
   "metadata": {},
   "outputs": [],
   "source": [
    "from IPython.display import clear_output\n",
    "import ipywidgets as wdg\n",
    "import pandas as pd\n",
    "import numpy as np\n",
    "import matplotlib.pyplot as plt\n",
    "import requests\n",
    "import time\n",
    "import json"
   ]
  },
  {
   "cell_type": "code",
   "execution_count": 2,
   "metadata": {},
   "outputs": [],
   "source": [
    "%matplotlib inline\n",
    "# make figures larger\n",
    "plt.rcParams['figure.dpi'] = 100"
   ]
  },
  {
   "cell_type": "code",
   "execution_count": 3,
   "metadata": {},
   "outputs": [],
   "source": [
    "# Load JSON files and store the raw data in some variable. Edit as appropriate\n",
    "with open(\"hospital.json\", \"rt\") as INFILE:\n",
    "    hospital=json.load(INFILE)\n",
    "with open(\"icuhdu.json\", \"rt\") as INFILE:\n",
    "    icuhdu=json.load(INFILE)\n",
    "#with open(\"test_pos.json\", \"rt\") as INFILE:\n",
    "    #test_pos=json.load(INFILE)\n",
    "\n",
    "jsondata={}\n",
    "for dataset in [hospital, icuhdu]:\n",
    "    for entry in dataset:\n",
    "        date=entry['date']\n",
    "        metric=entry['metric']\n",
    "        value=entry['metric_value']\n",
    "        if date not in jsondata:\n",
    "            jsondata[date]={}\n",
    "        jsondata[date][metric]=value\n",
    "#jsondata\n",
    "\n"
   ]
  },
  {
   "cell_type": "code",
   "execution_count": 4,
   "metadata": {},
   "outputs": [
    {
     "name": "stderr",
     "output_type": "stream",
     "text": [
      "/tmp/ipykernel_393/2440286137.py:38: FutureWarning: Downcasting object dtype arrays on .fillna, .ffill, .bfill is deprecated and will change in a future version. Call result.infer_objects(copy=False) instead. To opt-in to the future behavior, set `pd.set_option('future.no_silent_downcasting', True)`\n",
      "  timeseriesidf.fillna(0.0, inplace=True)\n"
     ]
    }
   ],
   "source": [
    "\n",
    "def wrangle_data(rawdata):\n",
    "    \"\"\" Parameters: rawdata - data from json file or API call. Returns a dataframe.\n",
    "    Edit to include the code that wrangles the data, creates the dataframe and fills it in. \"\"\"\n",
    "    # Create a sorted list of dates from the raw data\n",
    "    dates = list(rawdata.keys())\n",
    "    dates.sort()\n",
    "\n",
    "    # Helper function to parse dates into pandas datetime objects\n",
    "    def parse_date(datestring):\n",
    "        return pd.to_datetime(datestring, format=\"%Y-%m-%d\")\n",
    "\n",
    "    # Define start and end dates for the DataFrame index\n",
    "    startdate = parse_date(dates[0])\n",
    "    enddate = parse_date(dates[-1])\n",
    "    #print(f\"Wrangling data from {startdate} to {enddate}\")\n",
    "\n",
    "    # Create a DataFrame with a date range as its index\n",
    "    index = pd.date_range(startdate, enddate, freq='W-MON')\n",
    "    timeseriesidf = pd.DataFrame(index=index, columns=['hospital', 'icuhdu'])\n",
    "    \n",
    "\n",
    "    # Define the mapping for the metrics\n",
    "    metrics = {\n",
    "        'hospital': 'influenza_healthcare_hospitalAdmissionRateByWeek',\n",
    "        'icuhdu': 'influenza_healthcare_ICUHDUadmissionRateByWeek'\n",
    "    }\n",
    "\n",
    "    # Fill the DataFrame with values from the raw data\n",
    "    for date, entry in rawdata.items():\n",
    "        pd_date = parse_date(date)  # Convert string date to pandas datetime\n",
    "        for column in ['hospital', 'icuhdu']:\n",
    "            metric_name = metrics[column]\n",
    "            # Fetch the value for the metric or use 0.0 if missing\n",
    "            value = entry.get(metric_name, 0.0)\n",
    "            timeseriesidf.loc[pd_date, column] = value\n",
    "\n",
    "    # Fill any missing values in the DataFrame with 0.0\n",
    "    timeseriesidf.fillna(0.0, inplace=True)\n",
    "\n",
    "    return timeseriesidf\n",
    "\n",
    "\n",
    "# Wrangle data from the loaded JSON\n",
    "timeseriesidf = wrangle_data(jsondata)\n",
    "\n",
    "# Verify the output\n",
    "#print(timeseriesidf.head())\n"
   ]
  },
  {
   "cell_type": "code",
   "execution_count": 5,
   "metadata": {},
   "outputs": [],
   "source": [
    "# Place your API access code in this function. Do not call this function directly; it will be called by \n",
    "# the button callback. \n",
    "\n",
    "class APIwrapper:\n",
    "    # class variables shared among all instances\n",
    "    _access_point=\"https://api.ukhsa-dashboard.data.gov.uk\"\n",
    "    _last_access=0.0 # time of last api access\n",
    "    \n",
    "    def __init__(self, theme, sub_theme, topic, geography_type, geography, metric):\n",
    "        \"\"\" Init the APIwrapper object, constructing the endpoint from the structure\n",
    "        parameters \"\"\"\n",
    "        # build the path with all the required structure parameters. You do not need to edit this line,\n",
    "        # parameters will be replaced by the actual values when you instantiate an object of the class!\n",
    "        url_path=(f\"/themes/{theme}/sub_themes/{sub_theme}/topics/{topic}/geography_types/\" +\n",
    "                  f\"{geography_type}/geographies/{geography}/metrics/{metric}\")\n",
    "        # our starting API endpoint\n",
    "        self._start_url=APIwrapper._access_point+url_path\n",
    "        self._filters=None\n",
    "        self._page_size=-1\n",
    "        # will contain the number of items\n",
    "        self.count=None\n",
    "\n",
    "    def get_page(self, filters={}, page_size=5):\n",
    "        \"\"\" Access the API and download the next page of data. Sets the count\n",
    "        attribute to the total number of items available for this query. Changing\n",
    "        filters or page_size will cause get_page to restart from page 1. Rate\n",
    "        limited to three request per second. The page_size parameter sets the number\n",
    "        of data points in one response page (maximum 365); use the default value \n",
    "        for debugging your structure and filters. \"\"\"\n",
    "        # Check page size is within range\n",
    "        if page_size>365:\n",
    "            raise ValueError(\"Max supported page size is 365\")\n",
    "        # restart from first page if page or filters have changed\n",
    "        if filters!=self._filters or page_size!=self._page_size:\n",
    "            self._filters=filters\n",
    "            self._page_size=page_size\n",
    "            self._next_url=self._start_url\n",
    "        # signal the end of data condition\n",
    "        if self._next_url==None: \n",
    "            return [] # we already fetched the last page\n",
    "        # simple rate limiting to avoid bans\n",
    "        curr_time=time.time() # Unix time: number of seconds since the Epoch\n",
    "        deltat=curr_time-APIwrapper._last_access\n",
    "        if deltat<0.33: # max 3 requests/second\n",
    "            time.sleep(0.33-deltat)\n",
    "        APIwrapper._last_access=curr_time\n",
    "        # build parameter dictionary by removing all the None\n",
    "        # values from filters and adding page_size\n",
    "        parameters={x: y for x, y in filters.items() if y!=None}\n",
    "        parameters['page_size']=page_size\n",
    "        # the page parameter is already included in _next_url.\n",
    "        # This is the API access. Response is a dictionary with various keys.\n",
    "        # the .json() method decodes the response into Python object (dictionaries,\n",
    "        # lists; 'null' values are translated as None).\n",
    "        response = requests.get(self._next_url, params=parameters).json()\n",
    "        # update url so we'll fetch the next page\n",
    "        self._next_url=response['next']\n",
    "        self.count=response['count']\n",
    "        # data are in the nested 'results' list\n",
    "        return response['results'] \n",
    "\n",
    "    def get_all_pages(self, filters={}, page_size=365):\n",
    "        \"\"\" Access the API and download all available data pages of data. Sets the count\n",
    "        attribute to the total number of items available for this query. API access rate\n",
    "        limited to three request per second. The page_size parameter sets the number\n",
    "        of data points in one response page (maximum 365), and controls the trade-off\n",
    "        between time to load a page and number of pages; the default should work well \n",
    "        in most cases. The number of items returned should in any case be equal to \n",
    "        the count attribute. \"\"\"\n",
    "        data=[] # build up all data here\n",
    "        while True:\n",
    "            # use get_page to do the job, including the pacing\n",
    "            next_page=self.get_page(filters, page_size)\n",
    "            if next_page==[]:\n",
    "                break # we are done\n",
    "            data.extend(next_page)\n",
    "        return data\n",
    "\n",
    "def access_api():\n",
    "    \"\"\" Accesses the UKHSA API. Return data as a like-for-like replacement for the \"canned\" data loaded from the JSON file. \"\"\"\n",
    "    try:\n",
    "        # Define the structure for the query\n",
    "        structure = {\n",
    "            \"theme\": \"infectious_disease\", \n",
    "            \"sub_theme\": \"respiratory\",\n",
    "            \"topic\": \"Influenza\",\n",
    "            \"geography_type\": \"Nation\", \n",
    "            \"geography\": \"England\"\n",
    "        }\n",
    "        \n",
    "        # Fetch hospital data\n",
    "        structure[\"metric\"] = \"influenza_healthcare_hospitalAdmissionRateByWeek\"\n",
    "        api_hospital = APIwrapper(**structure)\n",
    "        hospital = api_hospital.get_all_pages()\n",
    "        print(f\"Hospital Data Points Retrieved: {len(hospital)}\")\n",
    "        \n",
    "        # Fetch icuhdu data\n",
    "        structure[\"metric\"] = \"influenza_healthcare_ICUHDUadmissionRateByWeek\"\n",
    "        api_icuhdu = APIwrapper(**structure)\n",
    "        icuhdu = api_icuhdu.get_all_pages()\n",
    "        print(f\"ICU/HDU Data Points Retrieved: {len(icuhdu)}\")\n",
    "        \n",
    "        # Combine and return as dictionary\n",
    "        fresh_data = {}\n",
    "        for dataset in [hospital, icuhdu]:\n",
    "            for entry in dataset:\n",
    "                date = entry[\"date\"]\n",
    "                metric = entry[\"metric\"]\n",
    "                value = entry[\"metric_value\"]\n",
    "                if date not in fresh_data:\n",
    "                    fresh_data[date] = {}\n",
    "                fresh_data[date][metric] = value\n",
    "        return fresh_data # return data read from the API\n",
    "\n",
    "    except Exception as e:\n",
    "        print(f\"Error fetching data: {e}\")\n",
    "        return None\n",
    "\n",
    "    \n",
    "    \n"
   ]
  },
  {
   "cell_type": "markdown",
   "metadata": {},
   "source": [
    "### Fetching Real-Time Data\n",
    "\n",
    "The **Fetch Data** button retrieves the latest statistics from the UKHSA API. \n",
    "- If the API is unavailable, the dashboard retains the preloaded data.\n",
    "- Error handling ensures the dashboard remains operational in case of connectivity issues.\n"
   ]
  },
  {
   "cell_type": "code",
   "execution_count": 6,
   "metadata": {},
   "outputs": [
    {
     "data": {
      "application/vnd.jupyter.widget-view+json": {
       "model_id": "c2aaa627f7a14ac2a97a0bb097d54575",
       "version_major": 2,
       "version_minor": 0
      },
      "text/plain": [
       "Button(description='Fetch Data', icon='download', style=ButtonStyle(), tooltip='Click to fetch the latest data…"
      ]
     },
     "metadata": {},
     "output_type": "display_data"
    }
   ],
   "source": [
    "# Button Callback Function\n",
    "def api_button_callback(button):\n",
    "    \"\"\"Button callback to fetch and process API data.\"\"\"\n",
    "    print(\"Fetching fresh data from API...\")\n",
    "    fresh_data = access_api()\n",
    "    \n",
    "    if fresh_data is not None:\n",
    "        global df\n",
    "        df = wrangle_data(fresh_data)  # Process the data into a DataFrame\n",
    "        print(\"Data refreshed successfully!\")\n",
    "        refresh_graph()  # Simulate widget interaction to refresh the graph\n",
    "        apibutton.icon = \"check\"\n",
    "        apibutton.button_style = \"success\"\n",
    "        apibutton.tooltip = \"Data refreshed successfully!\"\n",
    "    else:\n",
    "        print(\"Failed to fetch data. Retaining previous data.\")\n",
    "        apibutton.icon = \"times\"\n",
    "        apibutton.button_style = \"danger\"\n",
    "        apibutton.tooltip = \"API fetch failed.\"\n",
    "\n",
    "def refresh_graph():\n",
    "    \"\"\"Simulate widget interaction to refresh the graph.\"\"\"\n",
    "    print(\"Graph refreshed!\")\n",
    "    # Implement graph-refreshing logic here if needed\n",
    "\n",
    "# Create the Button\n",
    "apibutton = wdg.Button(\n",
    "    description=\"Fetch Data\",\n",
    "    disabled=False,\n",
    "    button_style=\"\",  # 'success', 'info', 'warning', 'danger' or ''\n",
    "    tooltip=\"Click to fetch the latest data\",\n",
    "    icon=\"download\"  # FontAwesome icon\n",
    ")\n",
    "\n",
    "# Register the callback with the button\n",
    "apibutton.on_click(api_button_callback)\n",
    "\n",
    "# Display the button\n",
    "display(apibutton)\n",
    "\n"
   ]
  },
  {
   "cell_type": "markdown",
   "metadata": {},
   "source": [
    "### Weekly Influenza Statistics\n",
    "\n",
    "This graph shows weekly trends for:\n",
    "- **Admissions**: The number of hospitalisations due to influenza.\n",
    "- **ICU/HDU Admissions**: The number of severe cases requiring intensive care.\n",
    "\n",
    "#### How to Use:\n",
    "- Select the metrics to display using the dropdown. Hold down ctrl/command to select both metrics\n",
    "- Toggle between linear and logarithmic scales using the radio buttons.\n",
    "- Click \"Fetch Data\" to refresh the graph with the latest data.\n"
   ]
  },
  {
   "cell_type": "code",
   "execution_count": 7,
   "metadata": {},
   "outputs": [
    {
     "data": {
      "application/vnd.jupyter.widget-view+json": {
       "model_id": "3f7a263050be428e9696a9a51b3bef5f",
       "version_major": 2,
       "version_minor": 0
      },
      "text/plain": [
       "HBox(children=(SelectMultiple(description='Stats:', index=(0, 1), options=('hospital', 'icuhdu'), rows=2, valu…"
      ]
     },
     "metadata": {},
     "output_type": "display_data"
    },
    {
     "data": {
      "application/vnd.jupyter.widget-view+json": {
       "model_id": "16534d206eb54b018b1bd20337585265",
       "version_major": 2,
       "version_minor": 0
      },
      "text/plain": [
       "Output()"
      ]
     },
     "metadata": {},
     "output_type": "display_data"
    }
   ],
   "source": [
    "series=wdg.SelectMultiple(\n",
    "    options=['hospital', 'icuhdu'],\n",
    "    value=['hospital', 'icuhdu'],\n",
    "    rows=2,\n",
    "    description='Stats:',\n",
    "    disabled=False\n",
    ")\n",
    "\n",
    "scale=wdg.RadioButtons(\n",
    "    options=['linear', 'log'],\n",
    "#   value='pineapple', # Defaults to 'pineapple'\n",
    "#   layout={'width': 'max-content'}, # If the items' names are long\n",
    "    description='Scale:',\n",
    "    disabled=False\n",
    ")\n",
    "\n",
    "# try replacing HBox with a VBox\n",
    "controls=wdg.HBox([series, scale])\n",
    "\n",
    "\"\"\"def timeseriesi_graph(gcols, gscale):\n",
    "    if gscale=='linear':\n",
    "        logscale=False\n",
    "    else:\n",
    "        logscale=True\n",
    "    ncols=len(gcols)\n",
    "    if ncols>0:\n",
    "        timeseriesidf[list(gcols)].plot(logy=logscale)\n",
    "        plt.show() # important - graphs won't update if this is missing \n",
    "    else:\n",
    "        print(\"Click to select data for graph\")\n",
    "        print(\"(CTRL-Click to select more than one category)\")\"\"\"\n",
    "\n",
    "def timeseriesi_graph(gcols, gscale):\n",
    "    \"\"\"\n",
    "    Plots the selected columns with a static title.\n",
    "    \n",
    "    Parameters:\n",
    "        gcols: list - selected columns to plot.\n",
    "        gscale: str - scale type ('linear' or 'log').\n",
    "    \"\"\"\n",
    "    # Determine the scale\n",
    "    logscale = True if gscale == 'log' else False\n",
    "    \n",
    "    # Check if there are columns to plot\n",
    "    if len(gcols) > 0:\n",
    "        ax = timeseriesidf[list(gcols)].plot(logy=logscale)  # Plot the selected columns\n",
    "        ax.set_title('Weekly Influenza Statistics')  # Add a static title\n",
    "        ax.set_ylabel('Rate')  # Optional: Add a y-axis label\n",
    "        ax.set_xlabel('Date')  # Optional: Add an x-axis label\n",
    "        plt.show()  # Ensure the graph updates\n",
    "    else:\n",
    "        print(\"Click to select data for the graph\")\n",
    "        print(\"(CTRL-Click to select more than one category)\")\n",
    "\n",
    "\n",
    "# keep calling timeseriesi_graph(gcols=value_of_series, gscale=value_of_scale); \n",
    "# capture output in widget graph   \n",
    "graph=wdg.interactive_output(timeseriesi_graph, {'gcols': series, 'gscale': scale})\n",
    "\n",
    "display(controls, graph)\n"
   ]
  },
  {
   "cell_type": "markdown",
   "metadata": {},
   "source": [
    "**Author and License** Remember that if you deploy your dashboard as a Binder it will be publicly accessible. Change the copyright notice and take credit for your work! Also acknowledge your sources and the conditions of the license by including this notice: \"Based on UK Government [data](https://ukhsa-dashboard.data.gov.uk/) published by the [UK Health Security Agency](https://www.gov.uk/government/organisations/uk-health-security-agency) and on the [DIY Disease Tracking Dashboard Kit](https://github.com/fsmeraldi/diy-covid19dash) by Fabrizio Smeraldi. Released under the [GNU GPLv3.0 or later](https://www.gnu.org/licenses/).\""
   ]
  },
  {
   "cell_type": "code",
   "execution_count": null,
   "metadata": {},
   "outputs": [],
   "source": []
  }
 ],
 "metadata": {
  "kernelspec": {
   "display_name": "Python 3 (ipykernel)",
   "language": "python",
   "name": "python3"
  },
  "language_info": {
   "codemirror_mode": {
    "name": "ipython",
    "version": 3
   },
   "file_extension": ".py",
   "mimetype": "text/x-python",
   "name": "python",
   "nbconvert_exporter": "python",
   "pygments_lexer": "ipython3",
   "version": "3.11.9"
  }
 },
 "nbformat": 4,
 "nbformat_minor": 4
}
